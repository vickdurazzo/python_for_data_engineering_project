{
 "cells": [
  {
   "cell_type": "markdown",
   "metadata": {},
   "source": [
    "## Cenário\n",
    "\n",
    "Para este projeto, você assumirá o papel de engenheiro de dados que trabalha para uma empresa internacional de análise financeira. Sua empresa acompanha os preços das ações, commodities, taxas de câmbio e taxas de inflação. Seu trabalho é extrair dados financeiros de várias fontes, como sites, APIs e arquivos fornecidos por diversas empresas de análise financeira. Após coletar os dados, você extrai os dados de interesse para sua empresa e os transforma de acordo com os requisitos fornecidos a você. Uma vez que a transformação estiver completa, você carrega esses dados em um banco de dados."
   ]
  },
  {
   "cell_type": "markdown",
   "metadata": {},
   "source": [
    "## Tarefas do Projeto\n",
    "\n",
    "Neste projeto você vai:\n",
    "\n",
    "- Coletar dados usando APIs.\n",
    "- Coletar dados usando web scraping.\n",
    "- Baixar arquivos para processamento.\n",
    "- Ler tipos de arquivo CSV, XML e JSON.\n",
    "- Extrair dados dos tipos de arquivo mencionados acima.\n",
    "- Transformar dados.\n",
    "- Utilizar o módulo de registro integrado.\n",
    "- Salvar os dados transformados em um formato pronto para ser carregado, que os engenheiros de dados podem usar para carregar os dados."
   ]
  },
  {
   "cell_type": "markdown",
   "metadata": {},
   "source": [
    "## Bibliotecas\n"
   ]
  },
  {
   "cell_type": "code",
   "execution_count": 8,
   "metadata": {},
   "outputs": [],
   "source": [
    "import requests\n",
    "import pandas as pd\n",
    "from bs4 import BeautifulSoup\n",
    "import html5lib"
   ]
  },
  {
   "cell_type": "markdown",
   "metadata": {},
   "source": [
    "## Extraindo Dados usando o Web Scraping\n",
    "https://web.archive.org/web/20200318083015/https://en.wikipedia.org/wiki/List_of_largest_banks fornece informações sobre os maiores bancos do mundo com base em vários parâmetros. Faça uma raspagem dos dados da tabela 'Por capitalização de mercado' e armazene-os em um arquivo JSON."
   ]
  },
  {
   "cell_type": "code",
   "execution_count": 17,
   "metadata": {},
   "outputs": [],
   "source": [
    "url = \"https://en.wikipedia.org/wiki/List_of_largest_banks\"\n",
    "r = requests.get(url)\n",
    "html_data = r.text"
   ]
  },
  {
   "cell_type": "markdown",
   "metadata": {},
   "source": [
    "**Pergunta 1**: Imprima o resultado da linha a seguir e lembre-se dela, pois será uma pergunta no questionário:"
   ]
  },
  {
   "cell_type": "code",
   "execution_count": 18,
   "metadata": {},
   "outputs": [
    {
     "name": "stdout",
     "output_type": "stream",
     "text": [
      "-page-tools-pinned-disa\n"
     ]
    }
   ],
   "source": [
    "print(html_data[760:783])"
   ]
  },
  {
   "cell_type": "markdown",
   "metadata": {},
   "source": [
    "## Scraping dos dados"
   ]
  },
  {
   "cell_type": "markdown",
   "metadata": {},
   "source": [
    "**Pergunta 2**: Usando o conteúdo e o Beautiful Soup, carregue os dados da tabela \"Por capitalização de mercado\" em um dataframe do Pandas. O dataframe deve ter os nomes dos bancos e a capitalização de mercado (em bilhões de dólares dos EUA) como nomes de colunas. Exiba as primeiras cinco linhas usando o comando \"head\"."
   ]
  },
  {
   "cell_type": "code",
   "execution_count": 20,
   "metadata": {},
   "outputs": [],
   "source": [
    "soup = BeautifulSoup(html_data, 'html.parser')"
   ]
  },
  {
   "cell_type": "code",
   "execution_count": 56,
   "metadata": {},
   "outputs": [
    {
     "name": "stderr",
     "output_type": "stream",
     "text": [
      "C:\\Users\\mariv\\AppData\\Local\\Temp\\ipykernel_54204\\840084261.py:14: FutureWarning: The behavior of DataFrame concatenation with empty or all-NA entries is deprecated. In a future version, this will no longer exclude empty or all-NA columns when determining the result dtypes. To retain the old behavior, exclude the relevant entries before the concat operation.\n",
      "  data = pd.concat([data,df])\n"
     ]
    }
   ],
   "source": [
    "data = pd.DataFrame(columns=[\"Name\", \"Market Cap (US$ Billion)\"])\n",
    "name_list = []\n",
    "market_cap_list = []\n",
    "for row in soup.find_all('tbody')[0].find_all('tr'):\n",
    "    col = row.find_all('td')   \n",
    "    #Write your code here\n",
    "    if (col != []):\n",
    "        Name = col[1].text\n",
    "        Market_Cap = float(col[2].text)\n",
    "        name_list.append(Name)\n",
    "        market_cap_list.append(Market_Cap)\n",
    "           \n",
    "df = pd.DataFrame({\"Name\":name_list, \"Market Cap (US$ Billion)\":market_cap_list})\n",
    "data = pd.concat([data,df])"
   ]
  },
  {
   "cell_type": "markdown",
   "metadata": {},
   "source": [
    "**Pergunta 3** Exiba as primeiras cinco linhas usando a função `head`."
   ]
  },
  {
   "cell_type": "code",
   "execution_count": 57,
   "metadata": {},
   "outputs": [
    {
     "data": {
      "text/html": [
       "<div>\n",
       "<style scoped>\n",
       "    .dataframe tbody tr th:only-of-type {\n",
       "        vertical-align: middle;\n",
       "    }\n",
       "\n",
       "    .dataframe tbody tr th {\n",
       "        vertical-align: top;\n",
       "    }\n",
       "\n",
       "    .dataframe thead th {\n",
       "        text-align: right;\n",
       "    }\n",
       "</style>\n",
       "<table border=\"1\" class=\"dataframe\">\n",
       "  <thead>\n",
       "    <tr style=\"text-align: right;\">\n",
       "      <th></th>\n",
       "      <th>Name</th>\n",
       "      <th>Market Cap (US$ Billion)</th>\n",
       "    </tr>\n",
       "  </thead>\n",
       "  <tbody>\n",
       "    <tr>\n",
       "      <th>0</th>\n",
       "      <td>JPMorgan Chase\\n</td>\n",
       "      <td>432.92</td>\n",
       "    </tr>\n",
       "    <tr>\n",
       "      <th>1</th>\n",
       "      <td>Bank of America\\n</td>\n",
       "      <td>231.52</td>\n",
       "    </tr>\n",
       "    <tr>\n",
       "      <th>2</th>\n",
       "      <td>Industrial and Commercial Bank of China\\n</td>\n",
       "      <td>194.56</td>\n",
       "    </tr>\n",
       "    <tr>\n",
       "      <th>3</th>\n",
       "      <td>Agricultural Bank of China\\n</td>\n",
       "      <td>160.68</td>\n",
       "    </tr>\n",
       "    <tr>\n",
       "      <th>4</th>\n",
       "      <td>HDFC Bank\\n</td>\n",
       "      <td>157.91</td>\n",
       "    </tr>\n",
       "  </tbody>\n",
       "</table>\n",
       "</div>"
      ],
      "text/plain": [
       "                                         Name  Market Cap (US$ Billion)\n",
       "0                            JPMorgan Chase\\n                    432.92\n",
       "1                           Bank of America\\n                    231.52\n",
       "2   Industrial and Commercial Bank of China\\n                    194.56\n",
       "3                Agricultural Bank of China\\n                    160.68\n",
       "4                                 HDFC Bank\\n                    157.91"
      ]
     },
     "execution_count": 57,
     "metadata": {},
     "output_type": "execute_result"
    }
   ],
   "source": [
    "data.head()"
   ]
  },
  {
   "cell_type": "markdown",
   "metadata": {},
   "source": [
    "## Carregando os Dados\n",
    "\n",
    "Carregue o dataframe do `pandas` criado acima em um JSON chamado `bank_market_cap.json` usando a função `to_json()`.\n"
   ]
  },
  {
   "cell_type": "code",
   "execution_count": 58,
   "metadata": {},
   "outputs": [],
   "source": [
    "#Write your code here\n",
    "data.to_json(\"bank_market_cap.json\")\n"
   ]
  },
  {
   "cell_type": "markdown",
   "metadata": {},
   "source": [
    "## Authors\n",
    "Ramesh Sannareddy, Joseph Santarcangelo and Azim Hirjani"
   ]
  },
  {
   "cell_type": "markdown",
   "metadata": {},
   "source": [
    "### Other Contributors\n",
    "Rav Ahuja"
   ]
  },
  {
   "cell_type": "markdown",
   "metadata": {},
   "source": [
    "## Change Log\n",
    "| Date (YYYY-MM-DD) | Version | Changed By        | Change Description                 |\n",
    "| ----------------- | ------- | ----------------- | ---------------------------------- |\n",
    "| 2022-07-12        | 0.2     | Appalabhaktula Hema | Corrected the code and markdown |\n",
    "| 2020-11-25        | 0.1     | Ramesh Sannareddy | Created initial version of the lab |"
   ]
  },
  {
   "cell_type": "markdown",
   "metadata": {},
   "source": [
    "Copyright © 2020 IBM Corporation."
   ]
  }
 ],
 "metadata": {
  "kernelspec": {
   "display_name": "Python 3",
   "language": "python",
   "name": "python3"
  },
  "language_info": {
   "codemirror_mode": {
    "name": "ipython",
    "version": 3
   },
   "file_extension": ".py",
   "mimetype": "text/x-python",
   "name": "python",
   "nbconvert_exporter": "python",
   "pygments_lexer": "ipython3",
   "version": "3.11.5"
  },
  "orig_nbformat": 4
 },
 "nbformat": 4,
 "nbformat_minor": 2
}
